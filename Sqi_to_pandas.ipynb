{
 "cells": [
  {
   "cell_type": "code",
   "execution_count": 1,
   "id": "b9c2b082-034e-4d18-b168-4ac467d7762d",
   "metadata": {},
   "outputs": [],
   "source": [
    "import sqlite3"
   ]
  },
  {
   "cell_type": "markdown",
   "id": "0562edcc-9c59-4cd4-9f0a-20add3b43ae9",
   "metadata": {},
   "source": [
    "### Load a DB object with connect and cursur"
   ]
  },
  {
   "cell_type": "code",
   "execution_count": 3,
   "id": "fbdcac80-2c57-47b9-9e8d-f52e1f54ce65",
   "metadata": {},
   "outputs": [
    {
     "name": "stdout",
     "output_type": "stream",
     "text": [
      "Cls_on_numpy.ipynb\n",
      "Sqi_to_pandas.ipynb\n",
      "Untitled.ipynb\n",
      "data_analysis_lec.ipynb\n",
      "intro_to_matplotlib.ipynb\n",
      "intro_to_pandas.ipynb\n",
      "matplotlib_histogram.png\n",
      "matplotlib_lec.ipynb\n",
      "pandas_2.ipynb\n",
      "pandas_3.ipynb\n",
      "regression-lecture\n",
      "seaborn_lec.ipynb\n",
      "soup_2.ipynb\n",
      "soup_3.ipynb\n",
      "webscraping 2.ipynb\n"
     ]
    }
   ],
   "source": [
    "!ls"
   ]
  },
  {
   "cell_type": "code",
   "execution_count": null,
   "id": "45654a47-f58c-47d8-aabf-3122a652cbfb",
   "metadata": {},
   "outputs": [],
   "source": []
  }
 ],
 "metadata": {
  "kernelspec": {
   "display_name": "Python 3",
   "language": "python",
   "name": "python3"
  },
  "language_info": {
   "codemirror_mode": {
    "name": "ipython",
    "version": 3
   },
   "file_extension": ".py",
   "mimetype": "text/x-python",
   "name": "python",
   "nbconvert_exporter": "python",
   "pygments_lexer": "ipython3",
   "version": "3.8.8"
  }
 },
 "nbformat": 4,
 "nbformat_minor": 5
}

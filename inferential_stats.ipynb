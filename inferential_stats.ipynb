{
 "cells": [
  {
   "cell_type": "markdown",
   "id": "a5a1b519-9bcb-4b0e-a9be-a89a2cb40ebb",
   "metadata": {},
   "source": [
    "### Inferential Statistics\n",
    "\n",
    "Earlier we looked at descriptive statistics starting with a dataset and making different observations, as well as calculating the quantities that can characterize the data set as a whole (mean, median, mode, srd etc\n",
    ")"
   ]
  },
  {
   "cell_type": "markdown",
   "id": "660b864b-859f-4daa-88db-87adc885b37d",
   "metadata": {},
   "source": [
    "and we look at a zoologist situation. th solve the prroblem we will look at probability"
   ]
  },
  {
   "cell_type": "markdown",
   "id": "9d5d2fad-11b2-49d6-885e-e4f5fe0cb926",
   "metadata": {},
   "source": [
    "### Probabilities\n"
   ]
  },
  {
   "cell_type": "markdown",
   "id": "6f0d3773-5e69-4c82-abf6-618455beaf90",
   "metadata": {},
   "source": [
    "### Set Theory"
   ]
  },
  {
   "cell_type": "markdown",
   "id": "ad74b9ab-b971-4508-81ee-d0b206c2d9c0",
   "metadata": {},
   "source": [
    "in python, if i want to make a set i can use the base function set(), or i can use '{and}'. but be careful! the input to set() must be an iterable. and remember tha {}\n",
    "will initiate an empty dictionary."
   ]
  },
  {
   "cell_type": "code",
   "execution_count": 1,
   "id": "388b504d-b27b-42ba-aff1-9dc57f1d9f21",
   "metadata": {},
   "outputs": [],
   "source": [
    "a = set([1, 2])"
   ]
  },
  {
   "cell_type": "code",
   "execution_count": 2,
   "id": "5badb8a4-7c3e-4054-b478-32ea80d32a6d",
   "metadata": {},
   "outputs": [],
   "source": [
    "b = {1, 2}"
   ]
  },
  {
   "cell_type": "code",
   "execution_count": 3,
   "id": "1c6610e5-96eb-4faa-b77f-737717a5475d",
   "metadata": {},
   "outputs": [
    {
     "data": {
      "text/plain": [
       "True"
      ]
     },
     "execution_count": 3,
     "metadata": {},
     "output_type": "execute_result"
    }
   ],
   "source": [
    "a==b"
   ]
  },
  {
   "cell_type": "code",
   "execution_count": 4,
   "id": "24e3217b-75c7-455b-b0d6-d88f7ca59bcd",
   "metadata": {},
   "outputs": [
    {
     "data": {
      "text/plain": [
       "True"
      ]
     },
     "execution_count": 4,
     "metadata": {},
     "output_type": "execute_result"
    }
   ],
   "source": [
    "a1 = {2, 1}\n",
    "\n",
    "a1==a"
   ]
  },
  {
   "cell_type": "code",
   "execution_count": 5,
   "id": "5454cb47-c521-448b-a29a-1b7e14fc8e48",
   "metadata": {},
   "outputs": [
    {
     "data": {
      "text/plain": [
       "dict"
      ]
     },
     "execution_count": 5,
     "metadata": {},
     "output_type": "execute_result"
    }
   ],
   "source": [
    "type({})"
   ]
  },
  {
   "cell_type": "code",
   "execution_count": 6,
   "id": "3baebbad-5083-4ed4-b73a-130b2679b1f5",
   "metadata": {},
   "outputs": [
    {
     "data": {
      "text/plain": [
       "set"
      ]
     },
     "execution_count": 6,
     "metadata": {},
     "output_type": "execute_result"
    }
   ],
   "source": [
    "type({2})"
   ]
  },
  {
   "cell_type": "code",
   "execution_count": 8,
   "id": "305e963c-a611-4efc-a9dc-0447d12fb04d",
   "metadata": {},
   "outputs": [
    {
     "data": {
      "text/plain": [
       "{'greg'}"
      ]
     },
     "execution_count": 8,
     "metadata": {},
     "output_type": "execute_result"
    }
   ],
   "source": [
    "a = set(['greg'])\n",
    "\n",
    "a "
   ]
  },
  {
   "cell_type": "code",
   "execution_count": 12,
   "id": "1a036d4a-7da6-4107-9769-84b9e0a9bcbc",
   "metadata": {},
   "outputs": [
    {
     "data": {
      "text/plain": [
       "{'greg'}"
      ]
     },
     "execution_count": 12,
     "metadata": {},
     "output_type": "execute_result"
    }
   ],
   "source": [
    "b = {'greg'}\n",
    "\n",
    "b"
   ]
  },
  {
   "cell_type": "code",
   "execution_count": 13,
   "id": "42e465fd-fcb4-47f7-ba51-4caa5e98f1db",
   "metadata": {},
   "outputs": [
    {
     "data": {
      "text/plain": [
       "{'e', 'g', 'r'}"
      ]
     },
     "execution_count": 13,
     "metadata": {},
     "output_type": "execute_result"
    }
   ],
   "source": [
    "c = set('greg')\n",
    "\n",
    "c"
   ]
  },
  {
   "cell_type": "code",
   "execution_count": 14,
   "id": "f635bd1c-68c5-479d-b109-831a1a43cbf7",
   "metadata": {},
   "outputs": [
    {
     "data": {
      "text/plain": [
       "True"
      ]
     },
     "execution_count": 14,
     "metadata": {},
     "output_type": "execute_result"
    }
   ],
   "source": [
    "a==b"
   ]
  },
  {
   "cell_type": "code",
   "execution_count": 15,
   "id": "8d271148-6cd9-4586-b503-b9d51abdafc0",
   "metadata": {},
   "outputs": [
    {
     "data": {
      "text/plain": [
       "False"
      ]
     },
     "execution_count": 15,
     "metadata": {},
     "output_type": "execute_result"
    }
   ],
   "source": [
    "a==c"
   ]
  },
  {
   "cell_type": "code",
   "execution_count": 16,
   "id": "6e21edae-112b-49c2-a5ba-594e004d83a4",
   "metadata": {},
   "outputs": [
    {
     "data": {
      "text/plain": [
       "{'e', 'g', 'r'}"
      ]
     },
     "execution_count": 16,
     "metadata": {},
     "output_type": "execute_result"
    }
   ],
   "source": [
    "c"
   ]
  },
  {
   "cell_type": "code",
   "execution_count": 17,
   "id": "fdf28917-e514-4420-b478-c462d837011b",
   "metadata": {},
   "outputs": [],
   "source": [
    "x = set()"
   ]
  },
  {
   "cell_type": "code",
   "execution_count": 18,
   "id": "01b3b43d-510b-4daa-be08-f7378ab122e0",
   "metadata": {},
   "outputs": [
    {
     "data": {
      "text/plain": [
       "set()"
      ]
     },
     "execution_count": 18,
     "metadata": {},
     "output_type": "execute_result"
    }
   ],
   "source": [
    "x"
   ]
  },
  {
   "cell_type": "markdown",
   "id": "3c5bbfc6-c957-41b5-9a52-8a631902448e",
   "metadata": {},
   "source": [
    "### 2.1 Subsets"
   ]
  },
  {
   "cell_type": "markdown",
   "id": "a128284d-4c4a-4c75-b2de-660058eb4860",
   "metadata": {},
   "source": [
    "Set T is a subset of set S if every element in set T ia also in set S. the mathematical notation for subset is T ⊂ S. the empty set ø oe {}, is trivally a subset of every set. (Questions: is there only one empty set? how do we know)\n",
    "\n",
    "### 2.2 Set operation"
   ]
  },
  {
   "cell_type": "markdown",
   "id": "2495434f-8864-472a-9b96-bd680168645c",
   "metadata": {},
   "source": [
    "union of 2 sets:S and T is a set of elements of either S or T or in both\n",
    "\n",
    "the intersection of 2 sets S and T is the set that contains all elements of S that also belongs to T."
   ]
  },
  {
   "cell_type": "code",
   "execution_count": 29,
   "id": "6ee2e4bb-63c4-43cd-9ef4-bd0cd9d9807f",
   "metadata": {},
   "outputs": [],
   "source": [
    "Robin = {'art', 'travelling', 'wine', 'doodling', 'tech', 'gadgets'}\n",
    "Rob = {'rock_climbing', 'travelling', 'dad jokes', 'ice cream'}\n",
    "Alison = {'wine', 'travelling', 'Schitts Creek', 'dogs'}\n",
    "Su = {'Schitts Creek', 'dogs', 'tarot card reading', 'croquet', 'taxonomy'}\n",
    "Molly = {'wine', 'ice cream', 'dogs', 'zookeeping' 'travelling'}"
   ]
  },
  {
   "cell_type": "code",
   "execution_count": 30,
   "id": "3e8e4731-9030-4446-b5db-2905fbe5ba2b",
   "metadata": {},
   "outputs": [
    {
     "data": {
      "text/plain": [
       "{'travelling', 'wine'}"
      ]
     },
     "execution_count": 30,
     "metadata": {},
     "output_type": "execute_result"
    }
   ],
   "source": [
    "Robin.intersection(Alison)"
   ]
  },
  {
   "cell_type": "code",
   "execution_count": 31,
   "id": "fe82c1d9-45df-48f4-a678-037f9cc72bf9",
   "metadata": {},
   "outputs": [
    {
     "data": {
      "text/plain": [
       "{'travelling'}"
      ]
     },
     "execution_count": 31,
     "metadata": {},
     "output_type": "execute_result"
    }
   ],
   "source": [
    "Rob.intersection(Alison)"
   ]
  },
  {
   "cell_type": "code",
   "execution_count": 32,
   "id": "54794f25-d823-4c97-baed-8a6fd2ce7987",
   "metadata": {},
   "outputs": [
    {
     "data": {
      "text/plain": [
       "{'Schitts Creek', 'dogs'}"
      ]
     },
     "execution_count": 32,
     "metadata": {},
     "output_type": "execute_result"
    }
   ],
   "source": [
    "Alison.intersection(Su)"
   ]
  },
  {
   "cell_type": "code",
   "execution_count": 27,
   "id": "9a102205-c01f-4d83-97ac-4ed0cfdba27b",
   "metadata": {},
   "outputs": [],
   "source": [
    "#Su.union(Molly)"
   ]
  },
  {
   "cell_type": "code",
   "execution_count": 35,
   "id": "3533610c-64b0-410f-853e-3faabdf97c56",
   "metadata": {},
   "outputs": [
    {
     "data": {
      "text/plain": [
       "set()"
      ]
     },
     "execution_count": 35,
     "metadata": {},
     "output_type": "execute_result"
    }
   ],
   "source": [
    "Molly.intersection(Rob).intersection(Robin)"
   ]
  },
  {
   "cell_type": "code",
   "execution_count": 36,
   "id": "30ad5e9b-00b7-412e-9de1-31b1bb9da54a",
   "metadata": {},
   "outputs": [
    {
     "data": {
      "text/plain": [
       "{'Schitts Creek', 'dogs'}"
      ]
     },
     "execution_count": 36,
     "metadata": {},
     "output_type": "execute_result"
    }
   ],
   "source": [
    "Alison.intersection(Su)"
   ]
  },
  {
   "cell_type": "markdown",
   "id": "643ff14a-7d73-4246-992d-545fdff98d19",
   "metadata": {},
   "source": [
    "### Foundation of (independent) Probabilities"
   ]
  },
  {
   "cell_type": "markdown",
   "id": "3b4f5e07-a50d-40c4-8093-5a5f32508162",
   "metadata": {},
   "source": [
    "### Counting Permutations & Combinations"
   ]
  },
  {
   "cell_type": "markdown",
   "id": "bc2b05d2-7aee-4b89-a153-34a5efa0d5c3",
   "metadata": {},
   "source": [
    "permuations\n",
    "\n",
    "ordering matters\n",
    "\n",
    "how many different arrangment can you get out of a number of element?"
   ]
  },
  {
   "cell_type": "code",
   "execution_count": 40,
   "id": "b5692822-b895-49cf-984f-8c07ffd37d56",
   "metadata": {},
   "outputs": [
    {
     "name": "stdout",
     "output_type": "stream",
     "text": [
      "[('a', 'y', 'o'), ('a', 'o', 'y'), ('y', 'a', 'o'), ('y', 'o', 'a'), ('o', 'a', 'y'), ('o', 'y', 'a')]\n"
     ]
    }
   ],
   "source": [
    "\n",
    "from itertools import permutations\n",
    "l = list(permutations('ayo'))\n",
    "print(l)"
   ]
  },
  {
   "cell_type": "markdown",
   "id": "891595f0-e3ae-420f-a8ee-022199a11abc",
   "metadata": {},
   "source": [
    "Easiest Scenario\n",
    "\n",
    "How many ways are there of arranging the latters in 'timilehin'?"
   ]
  },
  {
   "cell_type": "code",
   "execution_count": 41,
   "id": "a82a8b13-b118-463a-9a90-67ce9077e3da",
   "metadata": {},
   "outputs": [
    {
     "data": {
      "text/plain": [
       "720"
      ]
     },
     "execution_count": 41,
     "metadata": {},
     "output_type": "execute_result"
    }
   ],
   "source": [
    "\n",
    "from math import factorial\n",
    "\n",
    "factorial(6)"
   ]
  },
  {
   "cell_type": "code",
   "execution_count": 45,
   "id": "2a71c468-7de7-41e3-b4ee-b13a915578b0",
   "metadata": {},
   "outputs": [],
   "source": [
    "from itertools import permutations"
   ]
  },
  {
   "cell_type": "code",
   "execution_count": 47,
   "id": "cecb9ec3-398e-471d-8589-14324e4f19ec",
   "metadata": {},
   "outputs": [],
   "source": [
    "l = list(permutations('pochemnchka', 5))"
   ]
  },
  {
   "cell_type": "code",
   "execution_count": 49,
   "id": "11e85bb2-3d8c-438d-a41f-564a85e0b505",
   "metadata": {},
   "outputs": [
    {
     "name": "stdout",
     "output_type": "stream",
     "text": [
      "55440\n"
     ]
    }
   ],
   "source": [
    "print(len(l))"
   ]
  },
  {
   "cell_type": "code",
   "execution_count": 50,
   "id": "d44fc38e-f2fd-4f8e-9821-2bca431cd6c1",
   "metadata": {},
   "outputs": [
    {
     "data": {
      "text/plain": [
       "55440"
      ]
     },
     "execution_count": 50,
     "metadata": {},
     "output_type": "execute_result"
    }
   ],
   "source": [
    "11 * 10 * 9 * 8 * 7"
   ]
  },
  {
   "cell_type": "code",
   "execution_count": 51,
   "id": "ea599c15-2c5e-4ec5-949e-e72cc25d6e3c",
   "metadata": {},
   "outputs": [
    {
     "data": {
      "text/plain": [
       "22050"
      ]
     },
     "execution_count": 51,
     "metadata": {},
     "output_type": "execute_result"
    }
   ],
   "source": [
    "len(set(l))"
   ]
  },
  {
   "cell_type": "markdown",
   "id": "222a7daa-15b9-4dda-ae98-ffbe31d17e22",
   "metadata": {},
   "source": [
    "### Combinations"
   ]
  },
  {
   "cell_type": "markdown",
   "id": "edc5833e-9766-4e85-af30-da9428bbed64",
   "metadata": {},
   "source": [
    "ordering does not matter\n",
    "\n",
    "How many different selections can you get out of a number of elements?"
   ]
  },
  {
   "cell_type": "markdown",
   "id": "a3346c3a-3445-4b40-86b4-a95e3f2916d6",
   "metadata": {},
   "source": [
    "Easier Scenario:\n",
    "    \n",
    "How many ways are there in choosing two students from a group of six?"
   ]
  },
  {
   "cell_type": "code",
   "execution_count": 55,
   "id": "1819bc19-8eae-46ae-aef3-c8a4d29383d6",
   "metadata": {},
   "outputs": [
    {
     "data": {
      "text/plain": [
       "1.0"
      ]
     },
     "execution_count": 55,
     "metadata": {},
     "output_type": "execute_result"
    }
   ],
   "source": [
    "factorial(3) / (factorial(0) * factorial(3))"
   ]
  },
  {
   "cell_type": "markdown",
   "id": "e4d6b2b5-860f-4673-b0fa-636887757a4f",
   "metadata": {},
   "source": [
    "Harder Scenario:\n",
    "\n",
    "What are thr  chanches of getting exactly 3 heads on f flips?"
   ]
  },
  {
   "cell_type": "code",
   "execution_count": 67,
   "id": "ae5b2581-2f16-4b5b-8d10-860f0534b2ef",
   "metadata": {},
   "outputs": [],
   "source": [
    "from collections import Counter"
   ]
  },
  {
   "cell_type": "code",
   "execution_count": 69,
   "id": "ef0b7e44-dccf-48d0-b0c0-29e8653ae259",
   "metadata": {},
   "outputs": [
    {
     "data": {
      "text/plain": [
       "Counter({'arr': 'pochemuchka'})"
      ]
     },
     "execution_count": 69,
     "metadata": {},
     "output_type": "execute_result"
    }
   ],
   "source": [
    "c = Counter(arr='pochemuchka')\n",
    "\n",
    "c"
   ]
  },
  {
   "cell_type": "code",
   "execution_count": 70,
   "id": "55936766-652e-479c-9b4a-ec82bc64a36c",
   "metadata": {},
   "outputs": [
    {
     "ename": "AttributeError",
     "evalue": "'Counter' object has no attribute 'calc'",
     "output_type": "error",
     "traceback": [
      "\u001b[1;31m---------------------------------------------------------------------------\u001b[0m",
      "\u001b[1;31mAttributeError\u001b[0m                            Traceback (most recent call last)",
      "\u001b[1;32m<ipython-input-70-940f7ddb127f>\u001b[0m in \u001b[0;36m<module>\u001b[1;34m\u001b[0m\n\u001b[1;32m----> 1\u001b[1;33m \u001b[0mc\u001b[0m\u001b[1;33m.\u001b[0m\u001b[0mcalc\u001b[0m\u001b[1;33m(\u001b[0m\u001b[1;36m5\u001b[0m\u001b[1;33m,\u001b[0m \u001b[0morder\u001b[0m\u001b[1;33m=\u001b[0m\u001b[1;32mTrue\u001b[0m\u001b[1;33m)\u001b[0m\u001b[1;33m\u001b[0m\u001b[1;33m\u001b[0m\u001b[0m\n\u001b[0m\u001b[0;32m      2\u001b[0m \u001b[1;33m\u001b[0m\u001b[0m\n\u001b[0;32m      3\u001b[0m \u001b[0mc\u001b[0m\u001b[1;33m\u001b[0m\u001b[1;33m\u001b[0m\u001b[0m\n",
      "\u001b[1;31mAttributeError\u001b[0m: 'Counter' object has no attribute 'calc'"
     ]
    }
   ],
   "source": [
    "c.calc(5, order=True)\n",
    "\n",
    "c"
   ]
  },
  {
   "cell_type": "code",
   "execution_count": 71,
   "id": "315cfae4-5996-45cf-8b89-e65c00f516ae",
   "metadata": {},
   "outputs": [
    {
     "ename": "AttributeError",
     "evalue": "'Counter' object has no attribute 'calc'",
     "output_type": "error",
     "traceback": [
      "\u001b[1;31m---------------------------------------------------------------------------\u001b[0m",
      "\u001b[1;31mAttributeError\u001b[0m                            Traceback (most recent call last)",
      "\u001b[1;32m<ipython-input-71-5d4b25cc98be>\u001b[0m in \u001b[0;36m<module>\u001b[1;34m\u001b[0m\n\u001b[0;32m      1\u001b[0m \u001b[0mc2\u001b[0m \u001b[1;33m=\u001b[0m \u001b[0mCounter\u001b[0m\u001b[1;33m(\u001b[0m\u001b[0marr\u001b[0m\u001b[1;33m=\u001b[0m\u001b[1;34m'tttuup'\u001b[0m\u001b[1;33m)\u001b[0m\u001b[1;33m\u001b[0m\u001b[1;33m\u001b[0m\u001b[0m\n\u001b[1;32m----> 2\u001b[1;33m \u001b[0mc2\u001b[0m\u001b[1;33m.\u001b[0m\u001b[0mcalc\u001b[0m\u001b[1;33m(\u001b[0m\u001b[1;36m3\u001b[0m\u001b[1;33m)\u001b[0m\u001b[1;33m\u001b[0m\u001b[1;33m\u001b[0m\u001b[0m\n\u001b[0m",
      "\u001b[1;31mAttributeError\u001b[0m: 'Counter' object has no attribute 'calc'"
     ]
    }
   ],
   "source": [
    "c2 = Counter(arr='tttuup')\n",
    "c2.calc(3)"
   ]
  },
  {
   "cell_type": "code",
   "execution_count": 72,
   "id": "b5d28d95-608d-4d36-86ab-e13f2a10d72c",
   "metadata": {},
   "outputs": [
    {
     "ename": "AttributeError",
     "evalue": "'Counter' object has no attribute 'final_list'",
     "output_type": "error",
     "traceback": [
      "\u001b[1;31m---------------------------------------------------------------------------\u001b[0m",
      "\u001b[1;31mAttributeError\u001b[0m                            Traceback (most recent call last)",
      "\u001b[1;32m<ipython-input-72-acb5cf2c4c70>\u001b[0m in \u001b[0;36m<module>\u001b[1;34m\u001b[0m\n\u001b[1;32m----> 1\u001b[1;33m \u001b[0mc2\u001b[0m\u001b[1;33m.\u001b[0m\u001b[0mfinal_list\u001b[0m\u001b[1;33m\u001b[0m\u001b[1;33m\u001b[0m\u001b[0m\n\u001b[0m",
      "\u001b[1;31mAttributeError\u001b[0m: 'Counter' object has no attribute 'final_list'"
     ]
    }
   ],
   "source": [
    "c2.final_list"
   ]
  },
  {
   "cell_type": "code",
   "execution_count": null,
   "id": "87739e3c-e77b-4a4a-99af-b64834144a68",
   "metadata": {},
   "outputs": [],
   "source": [
    "c3 = Conter('qwerty')\n",
    "c3.cals(3)"
   ]
  },
  {
   "cell_type": "code",
   "execution_count": null,
   "id": "c15f4b9a-e5fe-484e-b225-45a76b886ac8",
   "metadata": {},
   "outputs": [],
   "source": [
    "c4 = Counter('qwertyuiopasdfghjklzxcvbnnm')\n",
    "c4.calc(2)"
   ]
  }
 ],
 "metadata": {
  "kernelspec": {
   "display_name": "Python 3",
   "language": "python",
   "name": "python3"
  },
  "language_info": {
   "codemirror_mode": {
    "name": "ipython",
    "version": 3
   },
   "file_extension": ".py",
   "mimetype": "text/x-python",
   "name": "python",
   "nbconvert_exporter": "python",
   "pygments_lexer": "ipython3",
   "version": "3.8.8"
  }
 },
 "nbformat": 4,
 "nbformat_minor": 5
}

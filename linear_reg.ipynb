{
 "cells": [
  {
   "cell_type": "code",
   "execution_count": 2,
   "id": "003e61a2-eff6-4ef6-8b20-b3d08e80c094",
   "metadata": {},
   "outputs": [
    {
     "ename": "ModuleNotFoundError",
     "evalue": "No module named 'lin_reg'",
     "output_type": "error",
     "traceback": [
      "\u001b[1;31m---------------------------------------------------------------------------\u001b[0m",
      "\u001b[1;31mModuleNotFoundError\u001b[0m                       Traceback (most recent call last)",
      "\u001b[1;32m<ipython-input-2-2b7d6a75e80b>\u001b[0m in \u001b[0;36m<module>\u001b[1;34m\u001b[0m\n\u001b[0;32m      4\u001b[0m \u001b[1;32mfrom\u001b[0m \u001b[0mmpl_toolkits\u001b[0m\u001b[1;33m.\u001b[0m\u001b[0mmplot3d\u001b[0m \u001b[1;32mimport\u001b[0m \u001b[0mAxes3D\u001b[0m\u001b[1;33m\u001b[0m\u001b[1;33m\u001b[0m\u001b[0m\n\u001b[0;32m      5\u001b[0m \u001b[1;32mfrom\u001b[0m \u001b[0mrandom\u001b[0m \u001b[1;32mimport\u001b[0m \u001b[0mgauss\u001b[0m\u001b[1;33m\u001b[0m\u001b[1;33m\u001b[0m\u001b[0m\n\u001b[1;32m----> 6\u001b[1;33m \u001b[1;32mfrom\u001b[0m \u001b[0mlin_reg\u001b[0m \u001b[1;32mimport\u001b[0m \u001b[0mbest_line\u001b[0m\u001b[1;33m\u001b[0m\u001b[1;33m\u001b[0m\u001b[0m\n\u001b[0m\u001b[0;32m      7\u001b[0m \u001b[1;32mfrom\u001b[0m \u001b[0mscipy\u001b[0m \u001b[1;32mimport\u001b[0m \u001b[0mstats\u001b[0m\u001b[1;33m\u001b[0m\u001b[1;33m\u001b[0m\u001b[0m\n\u001b[0;32m      8\u001b[0m \u001b[1;32mimport\u001b[0m \u001b[0mseaborn\u001b[0m \u001b[1;32mas\u001b[0m \u001b[0msns\u001b[0m\u001b[1;33m\u001b[0m\u001b[1;33m\u001b[0m\u001b[0m\n",
      "\u001b[1;31mModuleNotFoundError\u001b[0m: No module named 'lin_reg'"
     ]
    }
   ],
   "source": [
    "import pandas as pd\n",
    "import numpy as np\n",
    "from matplotlib import pyplot as plt\n",
    "from mpl_toolkits.mplot3d import Axes3D\n",
    "from random import gauss\n",
    "from lin_reg import best_line\n",
    "from scipy import stats\n",
    "import seaborn as sns\n",
    "%matplotlib inline"
   ]
  },
  {
   "cell_type": "code",
   "execution_count": null,
   "id": "5a1ec01d-352c-4055-b7b3-7dee6cb8aee5",
   "metadata": {},
   "outputs": [],
   "source": [
    "X = [1, 3, 5]\n",
    "Y = [2, 9, 10]\n",
    "\n",
    "#covariance by hand:\n",
    "((1-3) * (2-7) + (3-3) * (9-7) + (5-3) * (10-7)) /3"
   ]
  },
  {
   "cell_type": "code",
   "execution_count": null,
   "id": "dcaa0eb2-b757-4f3d-a174-770ead59d184",
   "metadata": {},
   "outputs": [],
   "source": [
    "# Betterbyet: with numpy:\n",
    "np..cov(X, Y, ddof=0)[0, 1] \n",
    "\n",
    "np..cov(X, Y, ddof=0)"
   ]
  },
  {
   "cell_type": "code",
   "execution_count": null,
   "id": "7cad0888-96cc-4a80-9b68-36db0993e145",
   "metadata": {},
   "outputs": [],
   "source": [
    "np.corrcoef(X, Y)"
   ]
  },
  {
   "cell_type": "code",
   "execution_count": null,
   "id": "4e681078-5ffb-4862-8e8f-60e1e0dca2f1",
   "metadata": {},
   "outputs": [],
   "source": [
    "4 /np.sqrt(19)"
   ]
  },
  {
   "cell_type": "code",
   "execution_count": null,
   "id": "9e0b2d11-9c7e-49f4-8ebe-81684c1055d0",
   "metadata": {},
   "outputs": [],
   "source": [
    "np.corrcoef(X, Y)[0, 1] == (np.cov(X, Y, ddof=0) / (np.std(X) * np.std(Y)))[0, 1]"
   ]
  },
  {
   "cell_type": "code",
   "execution_count": null,
   "id": "ec2cd837-4439-4369-b471-0db2ee890e5a",
   "metadata": {},
   "outputs": [],
   "source": [
    "stats.personr(X, Y)"
   ]
  },
  {
   "cell_type": "code",
   "execution_count": null,
   "id": "2b065fb5-7cdb-4aaa-80a2-4122122db5d5",
   "metadata": {},
   "outputs": [],
   "source": [
    "def best_line(X, Y):\n",
    "    \"\"\"This function plot the best-fit line for a group of datapoints broken into\n",
    "    a set of independent variable values (X) and set of dependent variable value (Y)\"\"\"\n",
    "    import numpy as np\n",
    "    from matplotlib import pyplot as plt\n",
    "    \n",
    "    X_bar = np.mean(X)\n",
    "    Y_bar = np.mean(Y)\n",
    "    \n",
    "    X_diffs = np.asarray([i - X_bar fir i in X])\n",
    "    Y_diffs = np.asarray([i - Y_bar fir i in Y])\n",
    "    \n",
    "    num =X_diffs.dot(Y_diffs)\n",
    "    \n",
    "    denom = np.sqrt((X_diffs ==2).sum() * (Y_diffs ** 2).sum())\n",
    "    \n",
    "    r_pearson = num / denom\n",
    "    \n",
    "    beta_1 = r_pearson * Y_diffs.std() / X_diffs.std()\n",
    "    \n",
    "    beta_0 = Y_bar - beta_1 * X_bar\n",
    "    \n",
    "    Xs = np.linspace(np.min(X), np.max(X), 100)\n",
    "    Ys = beta_1 * Xs + beta_0\n",
    "    plt.plot(X, Y, 'ro', label='datapoints')\n",
    "    plt.plt(Xs, Ys, 'k', label=f'y={round(beta_1, 2)}x+{round(beta_0, 2)}')"
   ]
  }
 ],
 "metadata": {
  "kernelspec": {
   "display_name": "Python 3",
   "language": "python",
   "name": "python3"
  },
  "language_info": {
   "codemirror_mode": {
    "name": "ipython",
    "version": 3
   },
   "file_extension": ".py",
   "mimetype": "text/x-python",
   "name": "python",
   "nbconvert_exporter": "python",
   "pygments_lexer": "ipython3",
   "version": "3.8.8"
  }
 },
 "nbformat": 4,
 "nbformat_minor": 5
}

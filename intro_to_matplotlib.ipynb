{
 "cells": [
  {
   "cell_type": "code",
   "execution_count": 1,
   "id": "34e93156-42ea-4e1c-acd4-ffa5db801c10",
   "metadata": {},
   "outputs": [],
   "source": [
    "from matplotlib.backends.backend_agg import FigureCanvasAgg as FigureCanvas # mport FigureCanvas\n",
    "from matplotlib.figure import Figure\n",
    "fig = Figure()  \n",
    "canvas = FigureCanvas(fig)\n",
    "\n",
    "import numpy as np\n",
    "x = np.random.randn(10000)\n",
    "ax = fig.add_subplot(111)\n",
    "ax.hist(x,100)\n",
    "\n",
    "\n",
    "ax.set_title('Normal distribution with $\\mu=0, \\sigma=1$')\n",
    "fig.savefig('matplotlib_histogram.png')"
   ]
  },
  {
   "cell_type": "markdown",
   "id": "9d61077c-f9ae-4b4e-a066-d0bf4626952a",
   "metadata": {},
   "source": [
    "### ARTIST LAYER"
   ]
  },
  {
   "cell_type": "code",
   "execution_count": 2,
   "id": "8756f7bf-d2be-424e-b78e-369544aea6e5",
   "metadata": {},
   "outputs": [],
   "source": [
    "from matplotlib.backends.backend_agg import FigureCanvasAgg as FigureCanvas # mport FigureCanvas\n",
    "from matplotlib.figure import Figure\n",
    "fig = Figure()  \n",
    "canvas = FigureCanvas(fig)\n",
    "\n",
    "import numpy as np\n",
    "x = np.random.randn(10000)\n",
    "ax = fig.add_subplot(111)\n",
    "ax.hist(x,100)\n",
    "\n",
    "\n",
    "ax.set_title('Normal distribution with $\\mu=0, \\sigma=1$')\n",
    "fig.savefig('matplotlib_histogram.png')"
   ]
  },
  {
   "cell_type": "code",
   "execution_count": 3,
   "id": "f83f75aa-2c5b-4853-948b-e64ee2b8c85d",
   "metadata": {},
   "outputs": [
    {
     "data": {
      "image/png": "[encoded data removed]",
      "text/plain": [
       "<Figure size 432x288 with 1 Axes>"
      ]
     },
     "metadata": {
      "needs_background": "light"
     },
     "output_type": "display_data"
    }
   ],
   "source": [
    "import matplotlib.pyplot as plt\n",
    "import numpy as np\n",
    "x = np.random.randn(10000)\n",
    "plt.hist(x, 100)\n",
    "plt.title('Normal distribution with $\\mu=0, \\sigma=1$')\n",
    "plt.savefig('matplotlib_histogram.png')\n",
    "plt.show()"
   ]
  },
  {
   "cell_type": "code",
   "execution_count": null,
   "id": "8e2ca18f-0824-4623-98bf-ce5b0f9b3cdc",
   "metadata": {},
   "outputs": [],
   "source": []
  }
 ],
 "metadata": {
  "kernelspec": {
   "display_name": "Python 3",
   "language": "python",
   "name": "python3"
  },
  "language_info": {
   "codemirror_mode": {
    "name": "ipython",
    "version": 3
   },
   "file_extension": ".py",
   "mimetype": "text/x-python",
   "name": "python",
   "nbconvert_exporter": "python",
   "pygments_lexer": "ipython3",
   "version": "3.8.8"
  }
 },
 "nbformat": 4,
 "nbformat_minor": 5
}
